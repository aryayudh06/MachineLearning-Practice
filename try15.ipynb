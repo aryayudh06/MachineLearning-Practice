{
 "cells": [
  {
   "cell_type": "code",
   "execution_count": 31,
   "metadata": {},
   "outputs": [],
   "source": [
    "import pandas as pd\n",
    "from sklearn import svm\n",
    "from sklearn.datasets import load_digits\n",
    "from sklearn.ensemble import RandomForestClassifier\n",
    "from sklearn.linear_model import LogisticRegression\n",
    "from sklearn.naive_bayes import GaussianNB\n",
    "from sklearn.naive_bayes import MultinomialNB\n",
    "from sklearn.tree import DecisionTreeClassifier"
   ]
  },
  {
   "cell_type": "code",
   "execution_count": 32,
   "metadata": {},
   "outputs": [],
   "source": [
    "digits = load_digits()"
   ]
  },
  {
   "cell_type": "code",
   "execution_count": 33,
   "metadata": {},
   "outputs": [],
   "source": [
    "model_params = {\n",
    "    'svm': {\n",
    "        'model': svm.SVC(gamma='auto'),\n",
    "        'params' : {\n",
    "            'C': [1,10,20],\n",
    "            'kernel': ['rbf','linear']\n",
    "        }  \n",
    "    },\n",
    "    'random_forest': {\n",
    "        'model': RandomForestClassifier(),\n",
    "        'params' : {\n",
    "            'n_estimators': [1,5,10]\n",
    "        }\n",
    "    },\n",
    "    'logistic_regression' : {\n",
    "        'model': LogisticRegression(solver='liblinear',multi_class='auto'),\n",
    "        'params': {\n",
    "            'C': [1,5,10]\n",
    "        }\n",
    "    },\n",
    "    'gaussian_nb':{\n",
    "      'model' : GaussianNB(),\n",
    "      'params' : {\n",
    "        'var_smoothing' : [1, 10, 50]\n",
    "      }\n",
    "    },\n",
    "    'multinomial_nb':{\n",
    "      'model' : MultinomialNB(),\n",
    "      'params' : {\n",
    "        \n",
    "      }\n",
    "    },\n",
    "    'decision_tree':{\n",
    "      'model' : DecisionTreeClassifier(criterion='gini'),\n",
    "      'params' : {\n",
    "        'max_depth': [1, 30, 100],\n",
    "        'min_samples_leaf':  [1, 4, 9]\n",
    "      }\n",
    "    }\n",
    "}"
   ]
  },
  {
   "cell_type": "code",
   "execution_count": 34,
   "metadata": {},
   "outputs": [
    {
     "data": {
      "text/html": [
       "<div>\n",
       "<style scoped>\n",
       "    .dataframe tbody tr th:only-of-type {\n",
       "        vertical-align: middle;\n",
       "    }\n",
       "\n",
       "    .dataframe tbody tr th {\n",
       "        vertical-align: top;\n",
       "    }\n",
       "\n",
       "    .dataframe thead th {\n",
       "        text-align: right;\n",
       "    }\n",
       "</style>\n",
       "<table border=\"1\" class=\"dataframe\">\n",
       "  <thead>\n",
       "    <tr style=\"text-align: right;\">\n",
       "      <th></th>\n",
       "      <th>model</th>\n",
       "      <th>best_score</th>\n",
       "      <th>best_params</th>\n",
       "      <th>clf_score</th>\n",
       "    </tr>\n",
       "  </thead>\n",
       "  <tbody>\n",
       "    <tr>\n",
       "      <th>0</th>\n",
       "      <td>svm</td>\n",
       "      <td>0.952702</td>\n",
       "      <td>{'C': 1, 'kernel': 'linear'}</td>\n",
       "      <td>{'mean_fit_time': [0.13983062903086343, 0.0154...</td>\n",
       "    </tr>\n",
       "    <tr>\n",
       "      <th>1</th>\n",
       "      <td>random_forest</td>\n",
       "      <td>0.915440</td>\n",
       "      <td>{'n_estimators': 10}</td>\n",
       "      <td>{'mean_fit_time': [0.0035521586736043296, 0.01...</td>\n",
       "    </tr>\n",
       "    <tr>\n",
       "      <th>2</th>\n",
       "      <td>logistic_regression</td>\n",
       "      <td>0.934894</td>\n",
       "      <td>{'C': 1}</td>\n",
       "      <td>{'mean_fit_time': [0.10451114177703857, 0.1155...</td>\n",
       "    </tr>\n",
       "    <tr>\n",
       "      <th>3</th>\n",
       "      <td>gaussian_nb</td>\n",
       "      <td>0.880912</td>\n",
       "      <td>{'var_smoothing': 1}</td>\n",
       "      <td>{'mean_fit_time': [0.0010368824005126953, 0.00...</td>\n",
       "    </tr>\n",
       "    <tr>\n",
       "      <th>4</th>\n",
       "      <td>multinomial_nb</td>\n",
       "      <td>0.876473</td>\n",
       "      <td>{}</td>\n",
       "      <td>{'mean_fit_time': [0.002568920453389486], 'std...</td>\n",
       "    </tr>\n",
       "    <tr>\n",
       "      <th>5</th>\n",
       "      <td>decision_tree</td>\n",
       "      <td>0.801382</td>\n",
       "      <td>{'max_depth': 30, 'min_samples_leaf': 1}</td>\n",
       "      <td>{'mean_fit_time': [0.002332409222920736, 0.001...</td>\n",
       "    </tr>\n",
       "  </tbody>\n",
       "</table>\n",
       "</div>"
      ],
      "text/plain": [
       "                 model  best_score                               best_params  \\\n",
       "0                  svm    0.952702              {'C': 1, 'kernel': 'linear'}   \n",
       "1        random_forest    0.915440                      {'n_estimators': 10}   \n",
       "2  logistic_regression    0.934894                                  {'C': 1}   \n",
       "3          gaussian_nb    0.880912                      {'var_smoothing': 1}   \n",
       "4       multinomial_nb    0.876473                                        {}   \n",
       "5        decision_tree    0.801382  {'max_depth': 30, 'min_samples_leaf': 1}   \n",
       "\n",
       "                                           clf_score  \n",
       "0  {'mean_fit_time': [0.13983062903086343, 0.0154...  \n",
       "1  {'mean_fit_time': [0.0035521586736043296, 0.01...  \n",
       "2  {'mean_fit_time': [0.10451114177703857, 0.1155...  \n",
       "3  {'mean_fit_time': [0.0010368824005126953, 0.00...  \n",
       "4  {'mean_fit_time': [0.002568920453389486], 'std...  \n",
       "5  {'mean_fit_time': [0.002332409222920736, 0.001...  "
      ]
     },
     "execution_count": 34,
     "metadata": {},
     "output_type": "execute_result"
    }
   ],
   "source": [
    "from sklearn.model_selection import GridSearchCV\n",
    "\n",
    "scores = []\n",
    "for model_name, mp in model_params.items():\n",
    "    clf =  GridSearchCV(mp['model'], mp['params'], cv=6, return_train_score=False)\n",
    "    clf.fit(digits.data, digits.target)\n",
    "    scores.append({\n",
    "        'model': model_name,\n",
    "        'best_score': clf.best_score_,\n",
    "        'best_params': clf.best_params_,\n",
    "        'clf_score' : clf.cv_results_\n",
    "    })\n",
    "    \n",
    "df = pd.DataFrame(scores,columns=['model','best_score','best_params', 'clf_score'])\n",
    "df"
   ]
  },
  {
   "cell_type": "code",
   "execution_count": 37,
   "metadata": {},
   "outputs": [
    {
     "data": {
      "text/plain": [
       "0    {'mean_fit_time': [0.13983062903086343, 0.0154...\n",
       "1    {'mean_fit_time': [0.0035521586736043296, 0.01...\n",
       "2    {'mean_fit_time': [0.10451114177703857, 0.1155...\n",
       "3    {'mean_fit_time': [0.0010368824005126953, 0.00...\n",
       "4    {'mean_fit_time': [0.002568920453389486], 'std...\n",
       "5    {'mean_fit_time': [0.002332409222920736, 0.001...\n",
       "Name: clf_score, dtype: object"
      ]
     },
     "execution_count": 37,
     "metadata": {},
     "output_type": "execute_result"
    }
   ],
   "source": [
    "df.clf_score"
   ]
  }
 ],
 "metadata": {
  "kernelspec": {
   "display_name": "base",
   "language": "python",
   "name": "python3"
  },
  "language_info": {
   "codemirror_mode": {
    "name": "ipython",
    "version": 3
   },
   "file_extension": ".py",
   "mimetype": "text/x-python",
   "name": "python",
   "nbconvert_exporter": "python",
   "pygments_lexer": "ipython3",
   "version": "3.12.4"
  }
 },
 "nbformat": 4,
 "nbformat_minor": 2
}
